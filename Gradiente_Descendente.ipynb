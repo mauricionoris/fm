{
  "nbformat": 4,
  "nbformat_minor": 0,
  "metadata": {
    "colab": {
      "provenance": [],
      "authorship_tag": "ABX9TyNvOEu2oLAFxyDpwNLwapJP",
      "include_colab_link": true
    },
    "kernelspec": {
      "name": "python3",
      "display_name": "Python 3"
    },
    "language_info": {
      "name": "python"
    }
  },
  "cells": [
    {
      "cell_type": "markdown",
      "metadata": {
        "id": "view-in-github",
        "colab_type": "text"
      },
      "source": [
        "<a href=\"https://colab.research.google.com/github/mauricionoris/fm/blob/master/Gradiente_Descendente.ipynb\" target=\"_parent\"><img src=\"https://colab.research.google.com/assets/colab-badge.svg\" alt=\"Open In Colab\"/></a>"
      ]
    },
    {
      "cell_type": "markdown",
      "source": [
        "# Gradiente descendente\n",
        "\n",
        "O **gradiente descendente** é um dos algoritmos mais fundamentais da otimização numérica e do aprendizado de máquina. Ele consiste em ajustar iterativamente os parâmetros de um modelo na direção oposta ao gradiente da função de erro, buscando o ponto onde esse erro é mínimo. Em outras palavras, o método procura o conjunto de valores que melhor explica os dados, reduzindo o erro entre as previsões do modelo e os valores reais. Essa ideia simples, porém poderosa, é a base de grande parte do treinamento de modelos modernos de inteligência artificial.\n",
        "\n",
        "Sua importância se torna evidente no contexto das **redes neurais artificiais**, onde o número de parâmetros é enorme e a superfície de erro é altamente complexa. O gradiente descendente permite atualizar cada peso da rede de forma eficiente, guiando o processo de aprendizado em direção a uma configuração que minimize o erro global. Mesmo em problemas não lineares e de alta dimensionalidade, ele fornece uma maneira sistemática de encontrar boas soluções, especialmente quando combinado com variações como o gradiente descendente estocástico (SGD) e algoritmos adaptativos como Adam e RMSProp.\n",
        "\n",
        "Além de ser o motor por trás do aprendizado em redes neurais, o gradiente descendente também ajuda a compreender **como as redes aprendem**. Ele mostra, passo a passo, como os ajustes nos pesos afetam o erro e o desempenho do modelo, permitindo uma visão concreta do processo de aprendizagem. Estudar o gradiente descendente é, portanto, essencial para entender não apenas o funcionamento interno das redes neurais, mas também os desafios de convergência, overfitting e eficiência computacional que surgem na prática.\n"
      ],
      "metadata": {
        "id": "s_nao-izo4JS"
      }
    },
    {
      "cell_type": "code",
      "source": [
        "import numpy as np\n",
        "import matplotlib.pyplot as plt"
      ],
      "metadata": {
        "id": "bmSUicrMbfdb"
      },
      "execution_count": 32,
      "outputs": []
    },
    {
      "cell_type": "code",
      "source": [
        "x_ = np.array([0.0,1.0,2.0,3.0,4.0,5.0])\n",
        "y_ = np.array([0.4,0.7,1.9,2.0,3.2,4.5])\n",
        "\n",
        "\n",
        "fig = plt.figure(figsize=(4,4))\n",
        "plt.scatter(x_,y_)\n",
        "plt.show()"
      ],
      "metadata": {
        "colab": {
          "base_uri": "https://localhost:8080/",
          "height": 368
        },
        "id": "vQFVzijkbj4W",
        "outputId": "3b1421f6-8e1a-4852-812f-176a6a5e303b"
      },
      "execution_count": 5,
      "outputs": [
        {
          "output_type": "display_data",
          "data": {
            "text/plain": [
              "<Figure size 400x400 with 1 Axes>"
            ],
            "image/png": "[encoded data removed]"
          },
          "metadata": {}
        }
      ]
    },
    {
      "cell_type": "markdown",
      "source": [
        "# Método de erro quadrado\n",
        "\n",
        "\n",
        "\n",
        "$$\n",
        "\\sum_{i=1}^{n} (y_i - b - a x_i)^2\n",
        "$$\n"
      ],
      "metadata": {
        "id": "F23KXgzBcnpS"
      }
    },
    {
      "cell_type": "code",
      "source": [
        "def calcula_erro(a,b):\n",
        "  soma=0.0\n",
        "  n =x_.shape[0]\n",
        "  for i in range(n):\n",
        "    e = y_[i]-(a*x_[i]+b)\n",
        "    soma += e*e\n",
        "  return soma/n\n",
        "\n",
        "a = np.arange(-2,3,0.1)\n",
        "b = np.arange(-2,3, 0.1)\n",
        "aa,bb = np.meshgrid(a,b,sparse=True)\n",
        "\n",
        "err = calcula_erro(aa,bb)\n",
        "\n"
      ],
      "metadata": {
        "id": "tDz0JJivcOok"
      },
      "execution_count": 8,
      "outputs": []
    },
    {
      "cell_type": "code",
      "source": [
        "z=np.power(err,0.2)\n",
        "n_levels = 20\n",
        "h = plt.contourf(a,b,z, n_levels)\n",
        "plt.axis('scaled')\n",
        "plt.colorbar()\n",
        "plt.show()"
      ],
      "metadata": {
        "colab": {
          "base_uri": "https://localhost:8080/",
          "height": 430
        },
        "id": "Jjq33ZDKb77m",
        "outputId": "df5e8505-bb9b-4651-a5a9-18243e7252ec"
      },
      "execution_count": 13,
      "outputs": [
        {
          "output_type": "display_data",
          "data": {
            "text/plain": [
              "<Figure size 640x480 with 2 Axes>"
            ],
            "image/png": "[encoded data removed]"
          },
          "metadata": {}
        }
      ]
    },
    {
      "cell_type": "markdown",
      "source": [
        "# Gradiente Descendente\n",
        "\n",
        "$$\n",
        "\\frac{\\partial erro}{\\partial a} = 2 \\sum_{i=1}^{n} (y_i - b - a x_i)(-x_i)=0\n",
        "$$\n",
        "\n",
        "$$\n",
        "\\frac{\\partial erro}{\\partial b} = 2 \\sum_{i=1}^{n} (y_i - b - a x_i)(-1)=0\n",
        "$$\n"
      ],
      "metadata": {
        "id": "yPEUiiX3fMER"
      }
    },
    {
      "cell_type": "code",
      "source": [
        "def calcula_da(a,b):\n",
        "\n",
        "  soma = 0.0\n",
        "  for i in range(x_.shape[0]):\n",
        "    soma+=x_[i]*(y_[i]-(a*x_[i]+b))\n",
        "  return -2*soma\n",
        "\n",
        "def calcula_db(a,b):\n",
        "\n",
        "  soma = 0.0\n",
        "  for i in range(x_.shape[0]):\n",
        "    soma+= (y_[i]-(a*x_[i]+b))\n",
        "  return -2*soma\n"
      ],
      "metadata": {
        "id": "k-FgxNGFelaC"
      },
      "execution_count": 15,
      "outputs": []
    },
    {
      "cell_type": "code",
      "source": [
        "def gradiente_descendente2(a0,b0,tol,max_it,learning_rate):\n",
        "\n",
        "\n",
        "  erro0 = calcula_erro(a0,b0)\n",
        "  erros = [erro0]\n",
        "  caminho = [[a0,b0]]\n",
        "  for it in range(max_it):\n",
        "    da = calcula_da(a0,b0)\n",
        "    db = calcula_db(a0,b0)\n",
        "    a1 = a0 - learning_rate*da\n",
        "    b1 = b0 - learning_rate*db\n",
        "\n",
        "    erro1 = calcula_erro(a1,b1)\n",
        "    erros.append(erro1)\n",
        "    caminho.append([a1,b1])\n",
        "\n",
        "\n",
        "\n",
        "    if abs(erro1 - erro0)<tol and abs(a1-a0)<tol and abs(b1-b0)<tol :\n",
        "      print(f'convergiu na iteracao {it}')\n",
        "      print(f'erro atual {erro1:3.f}, detal erro = {erro1-erro0}')\n",
        "\n",
        "      break\n",
        "\n",
        "    a0 = a1\n",
        "    b0 = b1\n",
        "  print(f'Solucao a={a1:.3f}, b={b1:.3f}')\n",
        "\n",
        "  return a0,b0,np.array(caminho),np.array(erros)\n"
      ],
      "metadata": {
        "id": "7S84btW0fG6V"
      },
      "execution_count": 29,
      "outputs": []
    },
    {
      "cell_type": "code",
      "source": [
        "def gradiente_descendente(a0,b0,tol,max_it,learning_rate):\n",
        "\n",
        "  for it in range(max_it):\n",
        "    da = calcula_da(a0,b0)\n",
        "    db = calcula_db(a0,b0)\n",
        "    a1 = a0 - learning_rate*da\n",
        "    b1 = b0 - learning_rate*db\n",
        "\n",
        "\n",
        "    if abs(a1-a0)<tol and abs(b1-b0)<tol :\n",
        "      print(f'convergiu na iteracao {it}')\n",
        "      break\n",
        "\n",
        "    a0 = a1\n",
        "    b0 = b1\n",
        "\n",
        "  return a0,b0"
      ],
      "metadata": {
        "id": "xI1xgCj3iRW2"
      },
      "execution_count": 30,
      "outputs": []
    },
    {
      "cell_type": "code",
      "source": [
        "a0_gd, b0_gd, caminho, erros = gradiente_descendente2(-1,+1,1e-5, 100000, 0.001)\n",
        "\n",
        "interacao = np.linspace(0, erros.shape[0]-1, erros.shape[0])\n",
        "plt.plot(interacao,erros)\n",
        "plt.show()"
      ],
      "metadata": {
        "colab": {
          "base_uri": "https://localhost:8080/",
          "height": 448
        },
        "id": "JXOVpnzZjDHU",
        "outputId": "611e4c4c-1874-42dc-cfd3-bcef60e0c2fe"
      },
      "execution_count": 31,
      "outputs": [
        {
          "output_type": "stream",
          "name": "stdout",
          "text": [
            "Solucao a=0.803, b=0.110\n"
          ]
        },
        {
          "output_type": "display_data",
          "data": {
            "text/plain": [
              "<Figure size 640x480 with 1 Axes>"
            ],
            "image/png": "[encoded data removed]"
          },
          "metadata": {}
        }
      ]
    },
    {
      "cell_type": "code",
      "source": [
        "h = plt.contourf(a,b,z,n_levels)\n",
        "plt.axis('scaled')\n",
        "plt.plot(caminho[:,0],caminho[:,1],'r')\n",
        "plt.colorbar()\n",
        "plt.show()\n",
        "\n",
        "\n"
      ],
      "metadata": {
        "colab": {
          "base_uri": "https://localhost:8080/",
          "height": 430
        },
        "id": "zpTenJYqkRYq",
        "outputId": "c02179f3-0d85-49a9-fbde-74985112c71b"
      },
      "execution_count": 27,
      "outputs": [
        {
          "output_type": "display_data",
          "data": {
            "text/plain": [
              "<Figure size 640x480 with 2 Axes>"
            ],
            "image/png": "[encoded data removed]"
          },
          "metadata": {}
        }
      ]
    },
    {
      "cell_type": "code",
      "source": [],
      "metadata": {
        "id": "sGvYsrMDmalO"
      },
      "execution_count": null,
      "outputs": []
    },
    {
      "cell_type": "markdown",
      "source": [
        "# Referências\n",
        "\n",
        "- Youtube [Marcelo Gattass](https://www.youtube.com/watch?v=VrDiMsVyLMw)\n",
        "- Youtube [Rodrigo Gerra](https://www.youtube.com/watch?v=Q12BnC-Bo50)"
      ],
      "metadata": {
        "id": "HVf2kFW8n1mA"
      }
    },
    {
      "cell_type": "markdown",
      "source": [
        "# Exercícios\n",
        "\n",
        "\n",
        "\n",
        "1. Faça experimentos com o número máximo de interações em (100,500 e 1000). Apresente os resultados\n",
        "2. Faça experimentos com o learning_rate = (0.1, e 0.01). Apresente os resultados\n"
      ],
      "metadata": {
        "id": "bMIhS0zQoRLc"
      }
    },
    {
      "cell_type": "code",
      "source": [],
      "metadata": {
        "id": "xGu6Rpovn2-9"
      },
      "execution_count": 31,
      "outputs": []
    }
  ]
}