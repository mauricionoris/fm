{
  "nbformat": 4,
  "nbformat_minor": 0,
  "metadata": {
    "colab": {
      "provenance": [],
      "authorship_tag": "ABX9TyNaywE6VPoiML9kmu1BkTmt",
      "include_colab_link": true
    },
    "kernelspec": {
      "name": "python3",
      "display_name": "Python 3"
    },
    "language_info": {
      "name": "python"
    }
  },
  "cells": [
    {
      "cell_type": "markdown",
      "metadata": {
        "id": "view-in-github",
        "colab_type": "text"
      },
      "source": [
        "<a href=\"https://colab.research.google.com/github/mauricionoris/fm/blob/master/atv2.ipynb\" target=\"_parent\"><img src=\"https://colab.research.google.com/assets/colab-badge.svg\" alt=\"Open In Colab\"/></a>"
      ]
    },
    {
      "cell_type": "markdown",
      "source": [
        "# Atividade 2 — Distâncias e Similaridades (Colab)\n",
        "\n",
        "**Conteúdo prático**  \n",
        "1) Produto escalar  \n",
        "2) Comprimento (módulo)  \n",
        "3) Similaridade angular (cosseno)  \n",
        "4) Distâncias: Euclidiana, Manhattan e Jaccard  \n",
        "\n",
        "**Foco em IA**: terminologia aplicada a **embeddings**, **busca semântica**, **k-NN/k-means**, e **recomendação baseada em conjuntos**.\n",
        "\n",
        "\n",
        "## 0) Setup rápido\n",
        "- Usaremos apenas `numpy` e algumas utilitárias.\n",
        "- Para conjuntos/binários (Jaccard), mostraremos duas formas: com `set` e com vetores {0,1}.\n"
      ],
      "metadata": {
        "id": "8AsoxaL3cJHe"
      }
    },
    {
      "cell_type": "code",
      "execution_count": 1,
      "metadata": {
        "id": "QJNoZUh4cHro"
      },
      "outputs": [],
      "source": [
        "# @title Imports\n",
        "import numpy as np\n",
        "from typing import Iterable, Tuple\n",
        "np.set_printoptions(suppress=True, precision=4)\n"
      ]
    },
    {
      "cell_type": "markdown",
      "source": [
        "## 1) Produto escalar (dot product)\n",
        "Interpretar como **quanto um vetor aponta na direção do outro**. Muito usado para medir **afinidade** entre **embeddings** (texto, imagem, áudio).\n"
      ],
      "metadata": {
        "id": "_Lz9E2LvcTk6"
      }
    },
    {
      "cell_type": "code",
      "source": [
        "# @title Produto escalar (função e exemplo)\n",
        "def dot(x: np.ndarray, y: np.ndarray) -> float:\n",
        "    x = np.asarray(x, dtype=float)\n",
        "    y = np.asarray(y, dtype=float)\n",
        "    return float(np.dot(x, y))\n",
        "\n",
        "# Exemplo simples: dois embeddings 2D (apenas para visualização)\n",
        "x = np.array([3, 4])\n",
        "y = np.array([1, 2])\n",
        "print('x·y =', dot(x, y))\n"
      ],
      "metadata": {
        "colab": {
          "base_uri": "https://localhost:8080/"
        },
        "id": "FQg_DeYFcRQH",
        "outputId": "72070a71-e80e-4dfd-aa06-fa74cdb88b27"
      },
      "execution_count": 2,
      "outputs": [
        {
          "output_type": "stream",
          "name": "stdout",
          "text": [
            "x·y = 11.0\n"
          ]
        }
      ]
    },
    {
      "cell_type": "markdown",
      "source": [
        "## 2) Comprimento (módulo)\n",
        "O **tamanho** do vetor. Em IA, ajuda a entender **intensidade/magnitude** de um embedding.\n"
      ],
      "metadata": {
        "id": "Or-TKLYGcZSy"
      }
    },
    {
      "cell_type": "code",
      "source": [
        "# @title Comprimento (função e exemplo)\n",
        "def length(v: np.ndarray) -> float:\n",
        "    v = np.asarray(v, dtype=float)\n",
        "    return float(np.linalg.norm(v))\n",
        "\n",
        "print('||x|| =', length(x))\n",
        "print('||y|| =', length(y))\n"
      ],
      "metadata": {
        "colab": {
          "base_uri": "https://localhost:8080/"
        },
        "id": "3omOc_5McWxk",
        "outputId": "2c640c8b-d80a-4511-9574-f75e418acede"
      },
      "execution_count": 3,
      "outputs": [
        {
          "output_type": "stream",
          "name": "stdout",
          "text": [
            "||x|| = 5.0\n",
            "||y|| = 2.23606797749979\n"
          ]
        }
      ]
    },
    {
      "cell_type": "markdown",
      "source": [
        "## 3) Similaridade angular (cosseno) e ângulo\n",
        "\n",
        "\n",
        "- Similaridade do cosseno $$\n",
        "\\operatorname{sim}_{\\cos}(x,y)=\\frac{x\\cdot y}{\\|x\\|\\,\\|y\\|}\n",
        "$$\n",
        "- Ângulo:  $$\n",
        "\\theta=\\cos^{-1}\\!\\left(\\frac{x\\cdot y}{\\|x\\|\\,\\|y\\|}\\right)\n",
        "$$\n",
        "\n",
        "Em embeddings, **direção** importa mais que magnitude — por isso a similaridade angular é muito usada em **busca semântica** e **rankings de proximidade**.\n"
      ],
      "metadata": {
        "id": "IfWK_ak3cfub"
      }
    },
    {
      "cell_type": "code",
      "source": [
        "# @title Similaridade do cosseno (funções e exemplo)\n",
        "def cosine_similarity(a: np.ndarray, b: np.ndarray) -> float:\n",
        "    a = np.asarray(a, dtype=float)\n",
        "    b = np.asarray(b, dtype=float)\n",
        "    na = np.linalg.norm(a)\n",
        "    nb = np.linalg.norm(b)\n",
        "    if na == 0 or nb == 0:\n",
        "        raise ValueError('cosine: vetores não podem ter comprimento zero')\n",
        "    return float(np.dot(a, b) / (na * nb))\n",
        "\n",
        "def angle_from_cosine_sim(sim: float) -> float:\n",
        "    # Ângulo em radianos\n",
        "    sim = max(-1.0, min(1.0, sim))\n",
        "    return float(np.arccos(sim))\n",
        "\n",
        "sim = cosine_similarity(x, y)\n",
        "theta = angle_from_cosine_sim(sim)\n",
        "print('cosine(x,y) =', sim)\n",
        "print('ângulo(x,y) [rad] =', theta)\n"
      ],
      "metadata": {
        "colab": {
          "base_uri": "https://localhost:8080/"
        },
        "id": "3Qo1jFUvcbbQ",
        "outputId": "f5e8e33b-ade3-4da8-f1d0-1fd6d27cb059"
      },
      "execution_count": 4,
      "outputs": [
        {
          "output_type": "stream",
          "name": "stdout",
          "text": [
            "cosine(x,y) = 0.9838699100999074\n",
            "ângulo(x,y) [rad] = 0.17985349979247847\n"
          ]
        }
      ]
    },
    {
      "cell_type": "markdown",
      "source": [
        "## 4) Distâncias — Euclidiana, Manhattan e Jaccard\n",
        "- **Euclidiana**: “reta” entre pontos (boa para **k-means** e **k-NN** com dados bem escalados).  \n",
        "- **Manhattan**: soma das diferenças por coordenada (robusta a **outliers** / dados esparsos).  \n",
        "- **Jaccard**: dissimilaridade entre **conjuntos** (ou vetores binários), ótima para **recomendação** por itens vistos/curtidos.\n"
      ],
      "metadata": {
        "id": "ISKd9e9fduPC"
      }
    },
    {
      "cell_type": "code",
      "source": [
        "# @title Distâncias (funções) + Demonstração\n",
        "def dist_euclid(a: np.ndarray, b: np.ndarray) -> float:\n",
        "    a = np.asarray(a, dtype=float)\n",
        "    b = np.asarray(b, dtype=float)\n",
        "    return float(np.linalg.norm(a - b))\n",
        "\n",
        "def dist_manhattan(a: np.ndarray, b: np.ndarray) -> float:\n",
        "    a = np.asarray(a, dtype=float)\n",
        "    b = np.asarray(b, dtype=float)\n",
        "    return float(np.abs(a - b).sum())\n",
        "\n",
        "def jaccard_sets(A: Iterable, B: Iterable) -> float:\n",
        "    A, B = set(A), set(B)\n",
        "    if not A and not B:\n",
        "        return 0.0  # distância 0 entre conjuntos vazios\n",
        "    inter = len(A & B)\n",
        "    union = len(A | B)\n",
        "    return float(1 - inter / union)\n",
        "\n",
        "def jaccard_binary(a: np.ndarray, b: np.ndarray) -> float:\n",
        "    # a, b são vetores binários {0,1}\n",
        "    a = np.asarray(a).astype(int)\n",
        "    b = np.asarray(b).astype(int)\n",
        "    assert a.shape == b.shape\n",
        "    inter = int(np.logical_and(a==1, b==1).sum())\n",
        "    union = int(np.logical_or (a==1, b==1).sum())\n",
        "    if union == 0:\n",
        "        return 0.0\n",
        "    return float(1 - inter / union)\n",
        "\n",
        "# Demonstração\n",
        "x3 = np.array([2, -1, 0], dtype=float)\n",
        "y3 = np.array([1,  1, 2], dtype=float)\n",
        "print('Euclidiana(x3,y3) =', dist_euclid(x3, y3))\n",
        "print('Manhattan (x3,y3) =', dist_manhattan(x3, y3))\n",
        "\n",
        "A = {'item1','item2','item3','item4'}\n",
        "B = {'item2','item3','item5'}\n",
        "print('Jaccard (sets A,B) =', jaccard_sets(A, B))\n",
        "\n",
        "xb = np.array([1,0,1,1,0,0,1])\n",
        "yb = np.array([0,1,1,0,0,1,1])\n",
        "print('Jaccard (binário)  =', jaccard_binary(xb, yb))\n"
      ],
      "metadata": {
        "colab": {
          "base_uri": "https://localhost:8080/"
        },
        "id": "D7Q-v6-ndrJH",
        "outputId": "c0f0af91-27aa-4557-b008-db200418ec54"
      },
      "execution_count": 5,
      "outputs": [
        {
          "output_type": "stream",
          "name": "stdout",
          "text": [
            "Euclidiana(x3,y3) = 3.0\n",
            "Manhattan (x3,y3) = 5.0\n",
            "Jaccard (sets A,B) = 0.6\n",
            "Jaccard (binário)  = 0.6666666666666667\n"
          ]
        }
      ]
    },
    {
      "cell_type": "markdown",
      "source": [
        "## 5) Mini-caso de uso (embeddings e recomendação)\n",
        "- Temos 4 *embeddings* de documentos/itens em 3D.  \n",
        "- Consulta: achamos os **mais similares (angular)** e **mais próximos (euclidiana/manhattan)**.  \n",
        "- Para **Jaccard**, simulamos itens consumidos por usuário (conjuntos).\n"
      ],
      "metadata": {
        "id": "u4Q_0hLbd6vh"
      }
    },
    {
      "cell_type": "code",
      "source": [
        "# @title Mini-caso de uso\n",
        "docs = np.array([\n",
        "    [0.9, 0.1, 0.1],   # doc A\n",
        "    [0.85, 0.12, 0.05],# doc B\n",
        "    [0.1, 0.8, 0.1],   # doc C\n",
        "    [0.1, 0.1, 0.9],   # doc D\n",
        "], dtype=float)\n",
        "labels = ['A','B','C','D']\n",
        "q = np.array([0.92, 0.05, 0.08])  # consulta\n",
        "\n",
        "sims   = [cosine_similarity(q, d) for d in docs]\n",
        "distsE = [dist_euclid(q, d) for d in docs]\n",
        "distsM = [dist_manhattan(q, d) for d in docs]\n",
        "\n",
        "print('Consulta q:', q)\n",
        "print('\\nTop-3 por similaridade angular (cosseno):')\n",
        "for i in np.argsort(sims)[::-1][:3]:\n",
        "    print(labels[i], 'sim=', round(sims[i],4))\n",
        "\n",
        "print('\\nTop-3 por distância euclidiana:')\n",
        "for i in np.argsort(distsE)[:3]:\n",
        "    print(labels[i], 'dist=', round(distsE[i],4))\n",
        "\n",
        "print('\\nTop-3 por distância Manhattan:')\n",
        "for i in np.argsort(distsM)[:3]:\n",
        "    print(labels[i], 'dist=', round(distsM[i],4))\n",
        "\n",
        "# Jaccard com conjuntos (consumo de itens)\n",
        "U1 = {'a','b','c','d'}\n",
        "U2 = {'b','c','e'}\n",
        "U3 = {'a','c','e','f'}\n",
        "print('\\nDistâncias Jaccard entre perfis de consumo (conjuntos):')\n",
        "print('d_J(U1,U2)=', jaccard_sets(U1, U2))\n",
        "print('d_J(U1,U3)=', jaccard_sets(U1, U3))\n",
        "print('d_J(U2,U3)=', jaccard_sets(U2, U3))\n"
      ],
      "metadata": {
        "colab": {
          "base_uri": "https://localhost:8080/"
        },
        "id": "tJAFpZ_td3Vh",
        "outputId": "1adc2f75-a015-4833-ee4f-87ba3c4fd479"
      },
      "execution_count": 7,
      "outputs": [
        {
          "output_type": "stream",
          "name": "stdout",
          "text": [
            "Consulta q: [0.92 0.05 0.08]\n",
            "\n",
            "Top-3 por similaridade angular (cosseno):\n",
            "A sim= 0.9982\n",
            "B sim= 0.9959\n",
            "D sim= 0.2006\n",
            "\n",
            "Top-3 por distância euclidiana:\n",
            "A dist= 0.0574\n",
            "B dist= 0.1034\n",
            "C dist= 1.1114\n",
            "\n",
            "Top-3 por distância Manhattan:\n",
            "A dist= 0.09\n",
            "B dist= 0.17\n",
            "C dist= 1.59\n",
            "\n",
            "Distâncias Jaccard entre perfis de consumo (conjuntos):\n",
            "d_J(U1,U2)= 0.6\n",
            "d_J(U1,U3)= 0.6666666666666667\n",
            "d_J(U2,U3)= 0.6\n"
          ]
        }
      ]
    },
    {
      "cell_type": "markdown",
      "source": [
        "## 6) 20 Exercícios (terminologia de caso de uso)\n",
        "Use linguagem de IA: *embedding*, *consulta*, *rank*, *vizinhos*, *perfis de consumo*, *itens*.\n",
        "Responda no Colab, adicionando células abaixo de cada item conforme precisar.\n"
      ],
      "metadata": {
        "id": "cQL88RnXeK3W"
      }
    },
    {
      "cell_type": "markdown",
      "source": [
        "1. (Dot) Dado `x=[3,4,0]` e `y=[1,2,2]`, calcule `x·y` e interprete o sinal/magnitude no contexto de **afinidade de embeddings**.  \n",
        "2. (Len) Para `x=[-2,1,2]`, calcule `||x||` e explique como o tamanho do embedding pode afetar métricas sensíveis à magnitude.  \n",
        "3. (Cos) Para `x=[2,0,0]` e `y=[10,0,0]`, calcule a **similaridade do cosseno** e o **ângulo**; explique por que são semanticamente muito próximos.  \n",
        "4. (Euc) Calcule a **distância euclidiana** entre `x=[1,2]` e `y=[4,6]` e diga se `y` é um **vizinho próximo** de `x`.  \n",
        "5. (Man) Calcule a **distância Manhattan** entre `x=[1,2,3]` e `y=[2,4,2]`; quando preferir Manhattan em **dados esparsos**?  \n",
        "6. (Jac-sets) Para `U1={a,b,c,d}` e `U2={b,c,e}`, calcule `d_J(U1,U2)` e interprete como **dissimilaridade de interesses**.  \n",
        "7. (Jac-bin) Converta `U1,U2` em vetores binários relativos ao universo `{a,b,c,d,e}` e calcule Jaccard binário; compare com o valor via conjuntos.  \n",
        "8. (Rank-cos) Dados `D1=[0.9,0.1,0.1]`, `D2=[0.85,0.12,0.05]`, `D3=[0.1,0.8,0.1]` e `q=[0.92,0.05,0.08]`, rankeie por **similaridade angular**.  \n",
        "9. (Rank-euc) Com os mesmos docs e consulta, rankeie por **distância euclidiana**; compare com o exercício 8.  \n",
        "10. (Rank-man) Repita para **Manhattan**; discuta coerências/divergências com o *rank* angular.  \n",
        "11. (Escala) Mostre um exemplo em que multiplicar um embedding por 10 **não** muda o *rank* por cosseno, mas muda por euclidiana.  \n",
        "12. (Ortogonais) Encontre `x,y` não nulos com `x·y=0` e interprete como **tópicos independentes** em embeddings.  \n",
        "13. (Ângulo pequeno) Construa `x,y` com `cos≈0.99` e discuta a **semelhança semântica** esperada.  \n",
        "14. (Conjuntos idênticos) Mostre que para `U={a,b,c}`, `d_J(U,U)=0` (identidade dos indiscerníveis).  \n",
        "15. (Conjuntos disjuntos) Mostre que se `A∩B=∅`, então `d_J(A,B)=1` (má dissimilaridade).  \n",
        "16. (Trade-off) Crie `x,y` em 3D onde Euclidiana é pequena mas o ângulo é grande; discuta **magnitude vs direção**.  \n",
        "17. (k-vizinhos) Implemente função para retornar **k-vizinhos** por cosseno e por euclidiana; compare para `k=2` usando `docs` e `q`.  \n",
        "18. (Jaccard perfis) Para três usuários `U1,U2,U3` (defina conjuntos diferentes), compute a **matriz de distâncias Jaccard** e identifique o par mais alinhado.  \n",
        "19. (Perturbação) Perturbe ligeiramente `q` e mostre o efeito no *rank* por cosseno vs euclidiana (robustez a **ruído de escala**).  \n",
        "20. (Pipeline) Crie uma função que receba **lista de embeddings** e uma **consulta** e retorne top-*k* por (i) cosseno, (ii) euclidiana, (iii) manhattan, e **explique quando usar cada um**.\n"
      ],
      "metadata": {
        "id": "B2TQu7rceO3Q"
      }
    },
    {
      "cell_type": "code",
      "source": [
        "# @title Utilitárias: top-k e matriz Jaccard\n",
        "def topk_by_metric(q, X, k=3, metric='cosine') -> Tuple[np.ndarray, np.ndarray]:\n",
        "    X = np.asarray(X, dtype=float)\n",
        "    assert metric in {'cosine','euclid','manhattan'}\n",
        "    if metric=='cosine':\n",
        "        vals = np.array([cosine_similarity(q, x) for x in X])\n",
        "        order = np.argsort(vals)[::-1]  # maior é melhor\n",
        "    elif metric=='euclid':\n",
        "        vals = np.array([dist_euclid(q, x) for x in X])\n",
        "        order = np.argsort(vals)        # menor é melhor\n",
        "    else:\n",
        "        vals = np.array([dist_manhattan(q, x) for x in X])\n",
        "        order = np.argsort(vals)        # menor é melhor\n",
        "    return order[:k], vals[order[:k]]\n",
        "\n",
        "def jaccard_matrix_sets(users_sets: dict) -> np.ndarray:\n",
        "    keys = list(users_sets.keys())\n",
        "    n = len(keys)\n",
        "    M = np.zeros((n, n))\n",
        "    for i in range(n):\n",
        "        for j in range(n):\n",
        "            M[i, j] = jaccard_sets(users_sets[keys[i]], users_sets[keys[j]])\n",
        "    return M\n",
        "\n",
        "# Mini-demo\n",
        "idx, vals = topk_by_metric(q, docs, k=2, metric='cosine')\n",
        "print('Top-2 (cosine):', [labels[i] for i in idx], vals)\n",
        "idx, vals = topk_by_metric(q, docs, k=2, metric='euclid')\n",
        "print('Top-2 (euclid):', [labels[i] for i in idx], vals)\n"
      ],
      "metadata": {
        "colab": {
          "base_uri": "https://localhost:8080/"
        },
        "id": "8XZOQhXPeb67",
        "outputId": "dd73643d-8d12-46ce-c19b-65f08fc49ffa"
      },
      "execution_count": 9,
      "outputs": [
        {
          "output_type": "stream",
          "name": "stdout",
          "text": [
            "Top-2 (cosine): ['A', 'B'] [0.9982 0.9959]\n",
            "Top-2 (euclid): ['A', 'B'] [0.0574 0.1034]\n"
          ]
        }
      ]
    },
    {
      "cell_type": "code",
      "source": [],
      "metadata": {
        "id": "06KkuaI5eKGu"
      },
      "execution_count": null,
      "outputs": []
    }
  ]
}